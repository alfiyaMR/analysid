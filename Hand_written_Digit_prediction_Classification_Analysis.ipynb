{
  "nbformat": 4,
  "nbformat_minor": 0,
  "metadata": {
    "colab": {
      "provenance": [],
      "mount_file_id": "11WISKOzw12XQ7-BwDv8vx6rd66DpTXNZ",
      "authorship_tag": "ABX9TyPwBAOkHbH48XhN164dyJjB",
      "include_colab_link": true
    },
    "kernelspec": {
      "name": "python3",
      "display_name": "Python 3"
    },
    "language_info": {
      "name": "python"
    }
  },
  "cells": [
    {
      "cell_type": "markdown",
      "metadata": {
        "id": "view-in-github",
        "colab_type": "text"
      },
      "source": [
        "<a href=\"https://colab.research.google.com/github/alfiyaMR/analysid/blob/main/Hand_written_Digit_prediction_Classification_Analysis.ipynb\" target=\"_parent\"><img src=\"https://colab.research.google.com/assets/colab-badge.svg\" alt=\"Open In Colab\"/></a>"
      ]
    },
    {
      "cell_type": "markdown",
      "source": [
        "**Hand written Digit prediction -Classification Analysis**"
      ],
      "metadata": {
        "id": "cT-ceIjrtNKY"
      }
    },
    {
      "cell_type": "markdown",
      "source": [
        "The digits dataset consist of 8x8 pixel images of digit the images attribute of the  dataset stores 8x8 arrays of grayscale values for each image.We will use these arrays to visualize the first 4 images .the target attribute of the dataset stores the digit each image represents.\n",
        "\n",
        "\n"
      ],
      "metadata": {
        "id": "Dpdno1_Ut-I_"
      }
    },
    {
      "cell_type": "markdown",
      "source": [
        "**Import library**"
      ],
      "metadata": {
        "id": "6_Om6zdevWI-"
      }
    },
    {
      "cell_type": "code",
      "source": [
        "import pandas as pd"
      ],
      "metadata": {
        "id": "9zhxu1Qpvxwj"
      },
      "execution_count": null,
      "outputs": []
    },
    {
      "cell_type": "code",
      "source": [
        "import numpy as np\n"
      ],
      "metadata": {
        "id": "TzWdI8Cov8LL"
      },
      "execution_count": null,
      "outputs": []
    },
    {
      "cell_type": "code",
      "source": [
        "import matplotlib.pyplot as plt\n"
      ],
      "metadata": {
        "id": "PHeJ0ZmTwBqy"
      },
      "execution_count": null,
      "outputs": []
    },
    {
      "cell_type": "markdown",
      "source": [
        "**Import Data**"
      ],
      "metadata": {
        "id": "9_4m4FGbwM-G"
      }
    },
    {
      "cell_type": "code",
      "source": [
        "from sklearn.datasets import load_digits"
      ],
      "metadata": {
        "id": "l3i2Xf-vwTfW"
      },
      "execution_count": null,
      "outputs": []
    },
    {
      "cell_type": "code",
      "source": [
        "df=load_digits()"
      ],
      "metadata": {
        "id": "ZB-APoRiwuCn"
      },
      "execution_count": null,
      "outputs": []
    },
    {
      "cell_type": "code",
      "source": [
        "_,axes=plt.subplots(nrows=1,ncols=4,figsize=(10,3))\n",
        "for ax,image,label in zip(axes,df.images,df.target):\n",
        "  ax.set_axis_off()\n",
        "  ax.imshow(image,cmap=plt.cm.gray_r,interpolation=\"nearest\")\n",
        "  ax.set_title(\"Training:%i\"% label)\n",
        "\n"
      ],
      "metadata": {
        "colab": {
          "base_uri": "https://localhost:8080/",
          "height": 183
        },
        "id": "q6MOm-1Vw0w3",
        "outputId": "f3ac241e-48d6-472c-b922-85157d042310"
      },
      "execution_count": null,
      "outputs": [
        {
          "output_type": "display_data",
          "data": {
            "text/plain": [
              "<Figure size 1000x300 with 4 Axes>"
            ],
            "image/png": "[encoded data removed]"
          },
          "metadata": {}
        }
      ]
    },
    {
      "cell_type": "markdown",
      "source": [
        "**Data Preprocessing**"
      ],
      "metadata": {
        "id": "m1wWNnQ-ywe4"
      }
    },
    {
      "cell_type": "markdown",
      "source": [
        "Flatten image"
      ],
      "metadata": {
        "id": "uJp0YJcY0i08"
      }
    },
    {
      "cell_type": "markdown",
      "source": [
        "                 8x8 image\n",
        " ![image.png](data:image/png;base64,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)"
      ],
      "metadata": {
        "id": "TUUuSnvo0WT6"
      }
    },
    {
      "cell_type": "code",
      "source": [
        "df.images.shape"
      ],
      "metadata": {
        "colab": {
          "base_uri": "https://localhost:8080/"
        },
        "id": "nHMyMN9v1SNm",
        "outputId": "dbcbb1cb-e4c6-4521-c2de-5136edf4e981"
      },
      "execution_count": null,
      "outputs": [
        {
          "output_type": "execute_result",
          "data": {
            "text/plain": [
              "(1797, 8, 8)"
            ]
          },
          "metadata": {},
          "execution_count": 25
        }
      ]
    },
    {
      "cell_type": "code",
      "source": [
        "df.images[0]"
      ],
      "metadata": {
        "colab": {
          "base_uri": "https://localhost:8080/"
        },
        "id": "qpTM57yy1tFQ",
        "outputId": "c3ec631a-e86e-4bf9-e088-c17afe848e41"
      },
      "execution_count": null,
      "outputs": [
        {
          "output_type": "execute_result",
          "data": {
            "text/plain": [
              "array([[ 0.,  0.,  5., 13.,  9.,  1.,  0.,  0.],\n",
              "       [ 0.,  0., 13., 15., 10., 15.,  5.,  0.],\n",
              "       [ 0.,  3., 15.,  2.,  0., 11.,  8.,  0.],\n",
              "       [ 0.,  4., 12.,  0.,  0.,  8.,  8.,  0.],\n",
              "       [ 0.,  5.,  8.,  0.,  0.,  9.,  8.,  0.],\n",
              "       [ 0.,  4., 11.,  0.,  1., 12.,  7.,  0.],\n",
              "       [ 0.,  2., 14.,  5., 10., 12.,  0.,  0.],\n",
              "       [ 0.,  0.,  6., 13., 10.,  0.,  0.,  0.]])"
            ]
          },
          "metadata": {},
          "execution_count": 26
        }
      ]
    },
    {
      "cell_type": "code",
      "source": [
        "df.images[0].shape"
      ],
      "metadata": {
        "colab": {
          "base_uri": "https://localhost:8080/"
        },
        "id": "Ifo0h9rx1z7-",
        "outputId": "d780b35d-5642-4520-b606-b9db2bdf92cb"
      },
      "execution_count": null,
      "outputs": [
        {
          "output_type": "execute_result",
          "data": {
            "text/plain": [
              "(8, 8)"
            ]
          },
          "metadata": {},
          "execution_count": 27
        }
      ]
    },
    {
      "cell_type": "code",
      "source": [
        "len(df.images)"
      ],
      "metadata": {
        "colab": {
          "base_uri": "https://localhost:8080/"
        },
        "id": "ALKeHcCX17l9",
        "outputId": "7ad720f2-62c1-4d99-d19e-f1a1175a07d2"
      },
      "execution_count": null,
      "outputs": [
        {
          "output_type": "execute_result",
          "data": {
            "text/plain": [
              "1797"
            ]
          },
          "metadata": {},
          "execution_count": 28
        }
      ]
    },
    {
      "cell_type": "code",
      "source": [
        "n_samples =len(df.images)\n",
        "data =df.images.reshape((n_samples,-1))"
      ],
      "metadata": {
        "id": "jVg4WGrW2HTe"
      },
      "execution_count": null,
      "outputs": []
    },
    {
      "cell_type": "code",
      "source": [
        "data[0]"
      ],
      "metadata": {
        "colab": {
          "base_uri": "https://localhost:8080/"
        },
        "id": "1IMhAMmR2ca3",
        "outputId": "f29d5a3d-3729-4411-d278-01bb38d5b86e"
      },
      "execution_count": null,
      "outputs": [
        {
          "output_type": "execute_result",
          "data": {
            "text/plain": [
              "array([ 0.,  0.,  5., 13.,  9.,  1.,  0.,  0.,  0.,  0., 13., 15., 10.,\n",
              "       15.,  5.,  0.,  0.,  3., 15.,  2.,  0., 11.,  8.,  0.,  0.,  4.,\n",
              "       12.,  0.,  0.,  8.,  8.,  0.,  0.,  5.,  8.,  0.,  0.,  9.,  8.,\n",
              "        0.,  0.,  4., 11.,  0.,  1., 12.,  7.,  0.,  0.,  2., 14.,  5.,\n",
              "       10., 12.,  0.,  0.,  0.,  0.,  6., 13., 10.,  0.,  0.,  0.])"
            ]
          },
          "metadata": {},
          "execution_count": 30
        }
      ]
    },
    {
      "cell_type": "code",
      "source": [
        "data[0].shape"
      ],
      "metadata": {
        "colab": {
          "base_uri": "https://localhost:8080/"
        },
        "id": "ufWvCVH52hRg",
        "outputId": "4f12d877-3088-4ab6-ed1b-c1975a57dc28"
      },
      "execution_count": null,
      "outputs": [
        {
          "output_type": "execute_result",
          "data": {
            "text/plain": [
              "(64,)"
            ]
          },
          "metadata": {},
          "execution_count": 31
        }
      ]
    },
    {
      "cell_type": "code",
      "source": [
        "data.shape"
      ],
      "metadata": {
        "colab": {
          "base_uri": "https://localhost:8080/"
        },
        "id": "8L8_4-pQ2rPy",
        "outputId": "bd4f741e-c005-46b7-f173-719c5e291dde"
      },
      "execution_count": null,
      "outputs": [
        {
          "output_type": "execute_result",
          "data": {
            "text/plain": [
              "(1797, 64)"
            ]
          },
          "metadata": {},
          "execution_count": 32
        }
      ]
    },
    {
      "cell_type": "markdown",
      "source": [
        "**Scaling Image Data**"
      ],
      "metadata": {
        "id": "QcXSMEAK2wjm"
      }
    },
    {
      "cell_type": "code",
      "source": [
        "data.min()"
      ],
      "metadata": {
        "colab": {
          "base_uri": "https://localhost:8080/"
        },
        "id": "BX2Gti1m246q",
        "outputId": "5dc9a27e-d559-4c58-f8ab-359631e7f5f9"
      },
      "execution_count": null,
      "outputs": [
        {
          "output_type": "execute_result",
          "data": {
            "text/plain": [
              "0.0"
            ]
          },
          "metadata": {},
          "execution_count": 33
        }
      ]
    },
    {
      "cell_type": "code",
      "source": [
        "data.max()"
      ],
      "metadata": {
        "colab": {
          "base_uri": "https://localhost:8080/"
        },
        "id": "8-TbJEJM3BMC",
        "outputId": "3d03b3eb-a45e-4256-dba9-b335e4087741"
      },
      "execution_count": null,
      "outputs": [
        {
          "output_type": "execute_result",
          "data": {
            "text/plain": [
              "16.0"
            ]
          },
          "metadata": {},
          "execution_count": 34
        }
      ]
    },
    {
      "cell_type": "code",
      "source": [
        "data = data/16"
      ],
      "metadata": {
        "id": "JNJIws0M3FD_"
      },
      "execution_count": null,
      "outputs": []
    },
    {
      "cell_type": "code",
      "source": [
        "data.min()"
      ],
      "metadata": {
        "colab": {
          "base_uri": "https://localhost:8080/"
        },
        "id": "QR8M4nz83LSn",
        "outputId": "4c5b044a-5d33-4c0d-ad29-8aca01ecf922"
      },
      "execution_count": null,
      "outputs": [
        {
          "output_type": "execute_result",
          "data": {
            "text/plain": [
              "0.0"
            ]
          },
          "metadata": {},
          "execution_count": 36
        }
      ]
    },
    {
      "cell_type": "code",
      "source": [
        "data.max()"
      ],
      "metadata": {
        "colab": {
          "base_uri": "https://localhost:8080/"
        },
        "id": "sZl_Uz223TAH",
        "outputId": "62c11f19-6e50-4e0c-b3aa-355a0e14ba48"
      },
      "execution_count": null,
      "outputs": [
        {
          "output_type": "execute_result",
          "data": {
            "text/plain": [
              "1.0"
            ]
          },
          "metadata": {},
          "execution_count": 37
        }
      ]
    },
    {
      "cell_type": "code",
      "source": [
        "data[0]"
      ],
      "metadata": {
        "colab": {
          "base_uri": "https://localhost:8080/"
        },
        "id": "Tjs_-yfl3bg3",
        "outputId": "c0d969a5-7e10-4bbf-90ca-0e7ed75fb091"
      },
      "execution_count": null,
      "outputs": [
        {
          "output_type": "execute_result",
          "data": {
            "text/plain": [
              "array([0.    , 0.    , 0.3125, 0.8125, 0.5625, 0.0625, 0.    , 0.    ,\n",
              "       0.    , 0.    , 0.8125, 0.9375, 0.625 , 0.9375, 0.3125, 0.    ,\n",
              "       0.    , 0.1875, 0.9375, 0.125 , 0.    , 0.6875, 0.5   , 0.    ,\n",
              "       0.    , 0.25  , 0.75  , 0.    , 0.    , 0.5   , 0.5   , 0.    ,\n",
              "       0.    , 0.3125, 0.5   , 0.    , 0.    , 0.5625, 0.5   , 0.    ,\n",
              "       0.    , 0.25  , 0.6875, 0.    , 0.0625, 0.75  , 0.4375, 0.    ,\n",
              "       0.    , 0.125 , 0.875 , 0.3125, 0.625 , 0.75  , 0.    , 0.    ,\n",
              "       0.    , 0.    , 0.375 , 0.8125, 0.625 , 0.    , 0.    , 0.    ])"
            ]
          },
          "metadata": {},
          "execution_count": 38
        }
      ]
    },
    {
      "cell_type": "markdown",
      "source": [
        "**Train Test Split Data**"
      ],
      "metadata": {
        "id": "s3br3rNh3j3B"
      }
    },
    {
      "cell_type": "code",
      "source": [
        "from sklearn.model_selection import train_test_split"
      ],
      "metadata": {
        "id": "qYCLKNPE3rr-"
      },
      "execution_count": null,
      "outputs": []
    },
    {
      "cell_type": "code",
      "source": [
        "x_train, x_test, y_train, y_test = train_test_split(data, df.target, test_size=0.3)"
      ],
      "metadata": {
        "id": "pPabcsKd3_-t"
      },
      "execution_count": null,
      "outputs": []
    },
    {
      "cell_type": "code",
      "source": [
        "x_train.shape, x_test.shape, y_train.shape, y_test.shape"
      ],
      "metadata": {
        "colab": {
          "base_uri": "https://localhost:8080/"
        },
        "id": "mE2IdXxK9IFy",
        "outputId": "63cb930b-f902-4d64-aa3e-b8d9a135e03b"
      },
      "execution_count": null,
      "outputs": [
        {
          "output_type": "execute_result",
          "data": {
            "text/plain": [
              "((1257, 64), (540, 64), (1257,), (540,))"
            ]
          },
          "metadata": {},
          "execution_count": 41
        }
      ]
    },
    {
      "cell_type": "markdown",
      "source": [
        "**Random Forest Model**"
      ],
      "metadata": {
        "id": "Jgj-jntN9bEd"
      }
    },
    {
      "cell_type": "code",
      "source": [],
      "metadata": {
        "id": "pTQIqPv64fik"
      },
      "execution_count": null,
      "outputs": []
    },
    {
      "cell_type": "code",
      "source": [
        "from sklearn.ensemble import RandomForestClassifier"
      ],
      "metadata": {
        "id": "JnH5vmOS9h7h"
      },
      "execution_count": null,
      "outputs": []
    },
    {
      "cell_type": "code",
      "source": [
        "rf = RandomForestClassifier()"
      ],
      "metadata": {
        "id": "qmdwaAXO9tAP"
      },
      "execution_count": null,
      "outputs": []
    },
    {
      "cell_type": "code",
      "source": [
        "rf.fit(x_train, y_train)"
      ],
      "metadata": {
        "colab": {
          "base_uri": "https://localhost:8080/",
          "height": 74
        },
        "id": "vqghEhEG93xY",
        "outputId": "10aa9653-76e9-4f00-dabe-b543d65bde5e"
      },
      "execution_count": null,
      "outputs": [
        {
          "output_type": "execute_result",
          "data": {
            "text/plain": [
              "RandomForestClassifier()"
            ],
            "text/html": [
              "<style>#sk-container-id-1 {color: black;}#sk-container-id-1 pre{padding: 0;}#sk-container-id-1 div.sk-toggleable {background-color: white;}#sk-container-id-1 label.sk-toggleable__label {cursor: pointer;display: block;width: 100%;margin-bottom: 0;padding: 0.3em;box-sizing: border-box;text-align: center;}#sk-container-id-1 label.sk-toggleable__label-arrow:before {content: \"▸\";float: left;margin-right: 0.25em;color: #696969;}#sk-container-id-1 label.sk-toggleable__label-arrow:hover:before {color: black;}#sk-container-id-1 div.sk-estimator:hover label.sk-toggleable__label-arrow:before {color: black;}#sk-container-id-1 div.sk-toggleable__content {max-height: 0;max-width: 0;overflow: hidden;text-align: left;background-color: #f0f8ff;}#sk-container-id-1 div.sk-toggleable__content pre {margin: 0.2em;color: black;border-radius: 0.25em;background-color: #f0f8ff;}#sk-container-id-1 input.sk-toggleable__control:checked~div.sk-toggleable__content {max-height: 200px;max-width: 100%;overflow: auto;}#sk-container-id-1 input.sk-toggleable__control:checked~label.sk-toggleable__label-arrow:before {content: \"▾\";}#sk-container-id-1 div.sk-estimator input.sk-toggleable__control:checked~label.sk-toggleable__label {background-color: #d4ebff;}#sk-container-id-1 div.sk-label input.sk-toggleable__control:checked~label.sk-toggleable__label {background-color: #d4ebff;}#sk-container-id-1 input.sk-hidden--visually {border: 0;clip: rect(1px 1px 1px 1px);clip: rect(1px, 1px, 1px, 1px);height: 1px;margin: -1px;overflow: hidden;padding: 0;position: absolute;width: 1px;}#sk-container-id-1 div.sk-estimator {font-family: monospace;background-color: #f0f8ff;border: 1px dotted black;border-radius: 0.25em;box-sizing: border-box;margin-bottom: 0.5em;}#sk-container-id-1 div.sk-estimator:hover {background-color: #d4ebff;}#sk-container-id-1 div.sk-parallel-item::after {content: \"\";width: 100%;border-bottom: 1px solid gray;flex-grow: 1;}#sk-container-id-1 div.sk-label:hover label.sk-toggleable__label {background-color: #d4ebff;}#sk-container-id-1 div.sk-serial::before {content: \"\";position: absolute;border-left: 1px solid gray;box-sizing: border-box;top: 0;bottom: 0;left: 50%;z-index: 0;}#sk-container-id-1 div.sk-serial {display: flex;flex-direction: column;align-items: center;background-color: white;padding-right: 0.2em;padding-left: 0.2em;position: relative;}#sk-container-id-1 div.sk-item {position: relative;z-index: 1;}#sk-container-id-1 div.sk-parallel {display: flex;align-items: stretch;justify-content: center;background-color: white;position: relative;}#sk-container-id-1 div.sk-item::before, #sk-container-id-1 div.sk-parallel-item::before {content: \"\";position: absolute;border-left: 1px solid gray;box-sizing: border-box;top: 0;bottom: 0;left: 50%;z-index: -1;}#sk-container-id-1 div.sk-parallel-item {display: flex;flex-direction: column;z-index: 1;position: relative;background-color: white;}#sk-container-id-1 div.sk-parallel-item:first-child::after {align-self: flex-end;width: 50%;}#sk-container-id-1 div.sk-parallel-item:last-child::after {align-self: flex-start;width: 50%;}#sk-container-id-1 div.sk-parallel-item:only-child::after {width: 0;}#sk-container-id-1 div.sk-dashed-wrapped {border: 1px dashed gray;margin: 0 0.4em 0.5em 0.4em;box-sizing: border-box;padding-bottom: 0.4em;background-color: white;}#sk-container-id-1 div.sk-label label {font-family: monospace;font-weight: bold;display: inline-block;line-height: 1.2em;}#sk-container-id-1 div.sk-label-container {text-align: center;}#sk-container-id-1 div.sk-container {/* jupyter's `normalize.less` sets `[hidden] { display: none; }` but bootstrap.min.css set `[hidden] { display: none !important; }` so we also need the `!important` here to be able to override the default hidden behavior on the sphinx rendered scikit-learn.org. See: https://github.com/scikit-learn/scikit-learn/issues/21755 */display: inline-block !important;position: relative;}#sk-container-id-1 div.sk-text-repr-fallback {display: none;}</style><div id=\"sk-container-id-1\" class=\"sk-top-container\"><div class=\"sk-text-repr-fallback\"><pre>RandomForestClassifier()</pre><b>In a Jupyter environment, please rerun this cell to show the HTML representation or trust the notebook. <br />On GitHub, the HTML representation is unable to render, please try loading this page with nbviewer.org.</b></div><div class=\"sk-container\" hidden><div class=\"sk-item\"><div class=\"sk-estimator sk-toggleable\"><input class=\"sk-toggleable__control sk-hidden--visually\" id=\"sk-estimator-id-1\" type=\"checkbox\" checked><label for=\"sk-estimator-id-1\" class=\"sk-toggleable__label sk-toggleable__label-arrow\">RandomForestClassifier</label><div class=\"sk-toggleable__content\"><pre>RandomForestClassifier()</pre></div></div></div></div></div>"
            ]
          },
          "metadata": {},
          "execution_count": 44
        }
      ]
    },
    {
      "cell_type": "markdown",
      "source": [
        "**Predict Test Data**"
      ],
      "metadata": {
        "id": "V4f_vGCg-aJm"
      }
    },
    {
      "cell_type": "code",
      "source": [
        "y_pred =rf.predict(x_test)"
      ],
      "metadata": {
        "id": "O_o6p6Lk-mnF"
      },
      "execution_count": null,
      "outputs": []
    },
    {
      "cell_type": "code",
      "source": [
        "y_pred"
      ],
      "metadata": {
        "id": "RNIXDWIn-wiG",
        "outputId": "7357f5c7-399c-4bf6-a44a-cb39c1de6520",
        "colab": {
          "base_uri": "https://localhost:8080/"
        }
      },
      "execution_count": null,
      "outputs": [
        {
          "output_type": "execute_result",
          "data": {
            "text/plain": [
              "array([9, 1, 5, 9, 6, 8, 5, 6, 0, 4, 3, 8, 4, 1, 5, 4, 6, 6, 8, 4, 5, 2,\n",
              "       4, 1, 0, 0, 4, 2, 5, 5, 1, 1, 0, 4, 0, 9, 7, 5, 9, 0, 9, 7, 8, 9,\n",
              "       5, 3, 4, 8, 1, 6, 0, 7, 1, 6, 5, 4, 7, 5, 6, 5, 1, 8, 9, 4, 9, 1,\n",
              "       5, 9, 0, 6, 9, 5, 4, 2, 7, 5, 6, 9, 7, 8, 5, 7, 6, 7, 0, 7, 1, 9,\n",
              "       3, 4, 3, 8, 8, 5, 5, 5, 4, 9, 1, 6, 6, 1, 4, 1, 5, 1, 7, 6, 3, 8,\n",
              "       8, 1, 4, 6, 9, 5, 1, 2, 3, 0, 0, 0, 0, 4, 8, 7, 4, 7, 8, 5, 2, 4,\n",
              "       0, 1, 9, 6, 7, 2, 0, 0, 4, 9, 2, 0, 5, 2, 9, 3, 5, 4, 1, 4, 2, 2,\n",
              "       6, 8, 0, 6, 8, 6, 6, 9, 6, 5, 2, 9, 2, 0, 4, 5, 1, 1, 9, 8, 4, 9,\n",
              "       4, 1, 3, 0, 7, 2, 5, 9, 0, 1, 4, 6, 4, 2, 5, 8, 8, 3, 6, 5, 9, 2,\n",
              "       8, 9, 3, 7, 7, 3, 8, 9, 8, 7, 8, 6, 8, 0, 3, 7, 5, 5, 1, 2, 6, 4,\n",
              "       8, 9, 7, 6, 2, 8, 0, 2, 7, 4, 1, 0, 4, 6, 7, 2, 4, 2, 7, 1, 2, 5,\n",
              "       7, 0, 0, 9, 1, 4, 4, 1, 1, 8, 5, 3, 3, 8, 8, 6, 2, 2, 7, 9, 4, 8,\n",
              "       8, 0, 2, 4, 2, 6, 3, 1, 0, 6, 5, 8, 1, 1, 1, 8, 2, 9, 2, 1, 8, 7,\n",
              "       8, 4, 1, 5, 3, 1, 0, 0, 7, 3, 5, 7, 3, 5, 4, 5, 2, 2, 7, 0, 9, 9,\n",
              "       2, 9, 0, 6, 9, 0, 0, 3, 2, 4, 1, 8, 1, 5, 6, 2, 6, 3, 4, 2, 9, 5,\n",
              "       9, 9, 3, 3, 6, 3, 0, 3, 0, 6, 0, 7, 3, 7, 0, 7, 5, 3, 4, 1, 5, 5,\n",
              "       1, 5, 3, 9, 4, 4, 0, 0, 2, 5, 7, 3, 9, 5, 8, 1, 8, 2, 1, 1, 0, 8,\n",
              "       8, 3, 1, 3, 6, 3, 1, 0, 1, 4, 4, 9, 7, 0, 5, 1, 7, 9, 3, 7, 7, 5,\n",
              "       6, 9, 3, 7, 7, 3, 8, 7, 1, 4, 9, 8, 3, 6, 1, 3, 1, 9, 0, 8, 2, 6,\n",
              "       0, 5, 0, 2, 9, 4, 9, 5, 0, 4, 7, 3, 5, 3, 2, 1, 2, 4, 8, 7, 2, 1,\n",
              "       8, 3, 9, 7, 9, 1, 6, 2, 6, 6, 9, 5, 4, 1, 2, 6, 6, 0, 1, 9, 9, 5,\n",
              "       9, 8, 1, 0, 6, 3, 0, 4, 8, 0, 2, 5, 7, 4, 7, 7, 8, 9, 0, 3, 5, 8,\n",
              "       9, 7, 5, 6, 3, 4, 9, 0, 3, 7, 7, 4, 3, 5, 9, 8, 4, 4, 9, 0, 7, 5,\n",
              "       9, 7, 4, 0, 3, 3, 1, 2, 6, 2, 9, 3, 3, 9, 5, 8, 3, 3, 8, 6, 1, 5,\n",
              "       1, 6, 9, 6, 1, 2, 6, 5, 9, 4, 2, 8])"
            ]
          },
          "metadata": {},
          "execution_count": 46
        }
      ]
    },
    {
      "cell_type": "markdown",
      "source": [
        "**Model Accuracy**"
      ],
      "metadata": {
        "id": "Ws4PmNfpt7fI"
      }
    },
    {
      "cell_type": "code",
      "source": [
        "from sklearn.metrics import confusion_matrix, classification_report"
      ],
      "metadata": {
        "id": "Ej96yztFuAOf"
      },
      "execution_count": null,
      "outputs": []
    },
    {
      "cell_type": "code",
      "source": [
        "confusion_matrix(y_test, y_pred)"
      ],
      "metadata": {
        "colab": {
          "base_uri": "https://localhost:8080/"
        },
        "id": "62fcOr14uNuI",
        "outputId": "17c82fc6-fb95-49dc-b21c-6d86a132d3b4"
      },
      "execution_count": null,
      "outputs": [
        {
          "output_type": "execute_result",
          "data": {
            "text/plain": [
              "array([[54,  0,  0,  0,  0,  0,  0,  0,  0,  0],\n",
              "       [ 0, 54,  0,  0,  0,  0,  0,  0,  0,  0],\n",
              "       [ 0,  0, 47,  0,  0,  0,  0,  0,  0,  0],\n",
              "       [ 0,  0,  0, 50,  0,  0,  0,  1,  0,  0],\n",
              "       [ 0,  0,  0,  0, 56,  0,  0,  0,  0,  0],\n",
              "       [ 1,  0,  0,  0,  0, 58,  0,  0,  1,  0],\n",
              "       [ 0,  1,  0,  0,  0,  0, 49,  0,  0,  0],\n",
              "       [ 0,  0,  0,  0,  0,  0,  0, 46,  1,  0],\n",
              "       [ 0,  4,  0,  0,  0,  1,  1,  0, 49,  0],\n",
              "       [ 0,  0,  0,  0,  0,  1,  0,  3,  1, 61]])"
            ]
          },
          "metadata": {},
          "execution_count": 48
        }
      ]
    },
    {
      "cell_type": "code",
      "source": [
        "print(classification_report(y_test, y_pred))"
      ],
      "metadata": {
        "colab": {
          "base_uri": "https://localhost:8080/"
        },
        "id": "fLSjnAa_zPvt",
        "outputId": "6216a110-0abc-44c1-e6e3-c21958f63984"
      },
      "execution_count": null,
      "outputs": [
        {
          "output_type": "stream",
          "name": "stdout",
          "text": [
            "              precision    recall  f1-score   support\n",
            "\n",
            "           0       0.98      1.00      0.99        54\n",
            "           1       0.92      1.00      0.96        54\n",
            "           2       1.00      1.00      1.00        47\n",
            "           3       1.00      0.98      0.99        51\n",
            "           4       1.00      1.00      1.00        56\n",
            "           5       0.97      0.97      0.97        60\n",
            "           6       0.98      0.98      0.98        50\n",
            "           7       0.92      0.98      0.95        47\n",
            "           8       0.94      0.89      0.92        55\n",
            "           9       1.00      0.92      0.96        66\n",
            "\n",
            "    accuracy                           0.97       540\n",
            "   macro avg       0.97      0.97      0.97       540\n",
            "weighted avg       0.97      0.97      0.97       540\n",
            "\n"
          ]
        }
      ]
    }
  ]
}